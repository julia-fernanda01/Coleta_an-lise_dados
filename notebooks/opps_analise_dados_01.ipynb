{
  "nbformat": 4,
  "nbformat_minor": 0,
  "metadata": {
    "colab": {
      "provenance": [],
      "authorship_tag": "ABX9TyOqgTD5GndN6GJ+SSiDIFu9",
      "include_colab_link": true
    },
    "kernelspec": {
      "name": "python3",
      "display_name": "Python 3"
    },
    "language_info": {
      "name": "python"
    }
  },
  "cells": [
    {
      "cell_type": "markdown",
      "metadata": {
        "id": "view-in-github",
        "colab_type": "text"
      },
      "source": [
        "<a href=\"https://colab.research.google.com/github/julia-fernanda01/Coleta_analise_dados/blob/main/notebooks/opps_analise_dados_01.ipynb\" target=\"_parent\"><img src=\"https://colab.research.google.com/assets/colab-badge.svg\" alt=\"Open In Colab\"/></a>"
      ]
    },
    {
      "cell_type": "code",
      "execution_count": 2,
      "metadata": {
        "id": "NoOUgvipV_uK",
        "colab": {
          "base_uri": "https://localhost:8080/"
        },
        "outputId": "0cf3b41b-255a-4658-8732-6e5142e3b0ca"
      },
      "outputs": [
        {
          "output_type": "stream",
          "name": "stdout",
          "text": [
            "olá Julia\n"
          ]
        }
      ],
      "source": [
        "  print (\"olá Julia\");"
      ]
    },
    {
      "cell_type": "markdown",
      "source": [
        "# Análise e visualização de dados"
      ],
      "metadata": {
        "id": "bbJG1p3je9l3"
      }
    }
  ]
}